{
 "cells": [
  {
   "cell_type": "code",
   "execution_count": 58,
   "metadata": {},
   "outputs": [],
   "source": [
    "import numpy as np\n",
    "import pandas as pd\n",
    "import os\n",
    "import json"
   ]
  },
  {
   "attachments": {},
   "cell_type": "markdown",
   "metadata": {},
   "source": [
    "# Defining Data and Annotations Directory"
   ]
  },
  {
   "cell_type": "code",
   "execution_count": 59,
   "metadata": {},
   "outputs": [],
   "source": [
    "DATA_DIR = './../datasets/'\n",
    "ANNOTATIONS_DIR = './../datasets/train/annotations/'"
   ]
  },
  {
   "attachments": {},
   "cell_type": "markdown",
   "metadata": {},
   "source": [
    "## Reading all the Annotation Files"
   ]
  },
  {
   "cell_type": "code",
   "execution_count": 60,
   "metadata": {},
   "outputs": [],
   "source": [
    "os.walk(ANNOTATIONS_DIR)\n",
    "\n",
    "# Get all the files in the annotations directory\n",
    "annotations = []\n",
    "for (dirpath, _, filenames) in os.walk(ANNOTATIONS_DIR):\n",
    "    for filename in filenames:\n",
    "        annotations.append(os.path.join(dirpath, filename))\n",
    "    break"
   ]
  },
  {
   "attachments": {},
   "cell_type": "markdown",
   "metadata": {},
   "source": [
    "## Converting Annotations Json files to Pandas DataFrame"
   ]
  },
  {
   "cell_type": "code",
   "execution_count": 61,
   "metadata": {},
   "outputs": [
    {
     "data": {
      "text/html": [
       "<div>\n",
       "<style scoped>\n",
       "    .dataframe tbody tr th:only-of-type {\n",
       "        vertical-align: middle;\n",
       "    }\n",
       "\n",
       "    .dataframe tbody tr th {\n",
       "        vertical-align: top;\n",
       "    }\n",
       "\n",
       "    .dataframe thead th {\n",
       "        text-align: right;\n",
       "    }\n",
       "</style>\n",
       "<table border=\"1\" class=\"dataframe\">\n",
       "  <thead>\n",
       "    <tr style=\"text-align: right;\">\n",
       "      <th></th>\n",
       "      <th>ID</th>\n",
       "      <th>Source</th>\n",
       "      <th>chart-type</th>\n",
       "      <th>BB-height</th>\n",
       "      <th>BB-width</th>\n",
       "      <th>BB-x0</th>\n",
       "      <th>BB-y0</th>\n",
       "      <th>text</th>\n",
       "      <th>X-axis</th>\n",
       "      <th>Y-axis</th>\n",
       "      <th>data-series</th>\n",
       "    </tr>\n",
       "  </thead>\n",
       "  <tbody>\n",
       "    <tr>\n",
       "      <th>0</th>\n",
       "      <td>0000ae6cbdb1</td>\n",
       "      <td>generated</td>\n",
       "      <td>vertical_bar</td>\n",
       "      <td>137</td>\n",
       "      <td>379</td>\n",
       "      <td>83</td>\n",
       "      <td>53</td>\n",
       "      <td>[{'id': 0, 'polygon': {'x0': 53, 'x1': 412, 'x...</td>\n",
       "      <td>{'ticks': [{'id': 10, 'tick_pt': {'x': 103, 'y...</td>\n",
       "      <td>{'ticks': [{'id': 3, 'tick_pt': {'x': 83, 'y':...</td>\n",
       "      <td>[{'x': 'Malawi', 'y': 837799.95244483}, {'x': ...</td>\n",
       "    </tr>\n",
       "    <tr>\n",
       "      <th>1</th>\n",
       "      <td>0003a50817cf</td>\n",
       "      <td>generated</td>\n",
       "      <td>line</td>\n",
       "      <td>359</td>\n",
       "      <td>497</td>\n",
       "      <td>80</td>\n",
       "      <td>61</td>\n",
       "      <td>[{'id': 0, 'polygon': {'x0': 210, 'x1': 446, '...</td>\n",
       "      <td>{'ticks': [{'id': 12, 'tick_pt': {'x': 80, 'y'...</td>\n",
       "      <td>{'ticks': [{'id': 3, 'tick_pt': {'x': 80, 'y':...</td>\n",
       "      <td>[{'x': 'Jan', 'y': 34.06176711672003}, {'x': '...</td>\n",
       "    </tr>\n",
       "    <tr>\n",
       "      <th>2</th>\n",
       "      <td>0005413054c9</td>\n",
       "      <td>generated</td>\n",
       "      <td>line</td>\n",
       "      <td>116</td>\n",
       "      <td>376</td>\n",
       "      <td>84</td>\n",
       "      <td>52</td>\n",
       "      <td>[{'id': 0, 'polygon': {'x0': 56, 'x1': 411, 'x...</td>\n",
       "      <td>{'ticks': [{'id': 10, 'tick_pt': {'x': 99, 'y'...</td>\n",
       "      <td>{'ticks': [{'id': 3, 'tick_pt': {'x': 84, 'y':...</td>\n",
       "      <td>[{'x': 'North Korea', 'y': 848122.6665414328},...</td>\n",
       "    </tr>\n",
       "    <tr>\n",
       "      <th>3</th>\n",
       "      <td>0005e64fdc6e</td>\n",
       "      <td>generated</td>\n",
       "      <td>scatter</td>\n",
       "      <td>230</td>\n",
       "      <td>415</td>\n",
       "      <td>55</td>\n",
       "      <td>62</td>\n",
       "      <td>[{'id': 0, 'polygon': {'x0': 71, 'x1': 470, 'x...</td>\n",
       "      <td>{'ticks': [{'id': 8, 'tick_pt': {'x': 55, 'y':...</td>\n",
       "      <td>{'ticks': [{'id': 1, 'tick_pt': {'x': 55, 'y':...</td>\n",
       "      <td>[{'x': 1949.161409571262, 'y': 48.034807831762...</td>\n",
       "    </tr>\n",
       "    <tr>\n",
       "      <th>4</th>\n",
       "      <td>000614d3eab6</td>\n",
       "      <td>generated</td>\n",
       "      <td>line</td>\n",
       "      <td>421</td>\n",
       "      <td>507</td>\n",
       "      <td>158</td>\n",
       "      <td>67</td>\n",
       "      <td>[{'id': 0, 'polygon': {'x0': 184, 'x1': 635, '...</td>\n",
       "      <td>{'ticks': [{'id': 8, 'tick_pt': {'x': 180, 'y'...</td>\n",
       "      <td>{'ticks': [{'id': 3, 'tick_pt': {'x': 158, 'y'...</td>\n",
       "      <td>[{'x': 'Jan', 'y': 4.332117595048629}, {'x': '...</td>\n",
       "    </tr>\n",
       "  </tbody>\n",
       "</table>\n",
       "</div>"
      ],
      "text/plain": [
       "             ID     Source    chart-type  BB-height  BB-width  BB-x0  BB-y0  \\\n",
       "0  0000ae6cbdb1  generated  vertical_bar        137       379     83     53   \n",
       "1  0003a50817cf  generated          line        359       497     80     61   \n",
       "2  0005413054c9  generated          line        116       376     84     52   \n",
       "3  0005e64fdc6e  generated       scatter        230       415     55     62   \n",
       "4  000614d3eab6  generated          line        421       507    158     67   \n",
       "\n",
       "                                                text  \\\n",
       "0  [{'id': 0, 'polygon': {'x0': 53, 'x1': 412, 'x...   \n",
       "1  [{'id': 0, 'polygon': {'x0': 210, 'x1': 446, '...   \n",
       "2  [{'id': 0, 'polygon': {'x0': 56, 'x1': 411, 'x...   \n",
       "3  [{'id': 0, 'polygon': {'x0': 71, 'x1': 470, 'x...   \n",
       "4  [{'id': 0, 'polygon': {'x0': 184, 'x1': 635, '...   \n",
       "\n",
       "                                              X-axis  \\\n",
       "0  {'ticks': [{'id': 10, 'tick_pt': {'x': 103, 'y...   \n",
       "1  {'ticks': [{'id': 12, 'tick_pt': {'x': 80, 'y'...   \n",
       "2  {'ticks': [{'id': 10, 'tick_pt': {'x': 99, 'y'...   \n",
       "3  {'ticks': [{'id': 8, 'tick_pt': {'x': 55, 'y':...   \n",
       "4  {'ticks': [{'id': 8, 'tick_pt': {'x': 180, 'y'...   \n",
       "\n",
       "                                              Y-axis  \\\n",
       "0  {'ticks': [{'id': 3, 'tick_pt': {'x': 83, 'y':...   \n",
       "1  {'ticks': [{'id': 3, 'tick_pt': {'x': 80, 'y':...   \n",
       "2  {'ticks': [{'id': 3, 'tick_pt': {'x': 84, 'y':...   \n",
       "3  {'ticks': [{'id': 1, 'tick_pt': {'x': 55, 'y':...   \n",
       "4  {'ticks': [{'id': 3, 'tick_pt': {'x': 158, 'y'...   \n",
       "\n",
       "                                         data-series  \n",
       "0  [{'x': 'Malawi', 'y': 837799.95244483}, {'x': ...  \n",
       "1  [{'x': 'Jan', 'y': 34.06176711672003}, {'x': '...  \n",
       "2  [{'x': 'North Korea', 'y': 848122.6665414328},...  \n",
       "3  [{'x': 1949.161409571262, 'y': 48.034807831762...  \n",
       "4  [{'x': 'Jan', 'y': 4.332117595048629}, {'x': '...  "
      ]
     },
     "execution_count": 61,
     "metadata": {},
     "output_type": "execute_result"
    }
   ],
   "source": [
    "# Convert the annotations to a csv file\n",
    "\n",
    "def convert_annotations_to_csv(annotations):\n",
    "    data = []\n",
    "    for annotation in annotations:\n",
    "        file_name = annotation.split('/')[-1].split('.')[0]\n",
    "        with open(annotation) as f:\n",
    "            parsed = json.load(f)\n",
    "        \n",
    "        data.append([file_name, parsed['source'], parsed['chart-type'], parsed['plot-bb']['height'], parsed['plot-bb']['width'],\\\n",
    "                     parsed['plot-bb']['x0'], parsed['plot-bb']['y0'], parsed['text'], parsed['axes']['x-axis'], parsed['axes']['y-axis'],\\\n",
    "                    parsed['data-series']])\n",
    "    return pd.DataFrame(data, columns=['ID', 'Source', 'chart-type', 'BB-height', 'BB-width', 'BB-x0', 'BB-y0', 'text', 'X-axis', 'Y-axis', 'data-series'])\n",
    "\n",
    "df = convert_annotations_to_csv(annotations)\n",
    "df.head()"
   ]
  },
  {
   "attachments": {},
   "cell_type": "markdown",
   "metadata": {},
   "source": [
    "## Save the DataFrame to CSV file"
   ]
  },
  {
   "cell_type": "code",
   "execution_count": 62,
   "metadata": {},
   "outputs": [],
   "source": [
    "# Save the csv file\n",
    "df.to_csv(DATA_DIR + '/train/train.csv', index=False)"
   ]
  }
 ],
 "metadata": {
  "kernelspec": {
   "display_name": "NLP",
   "language": "python",
   "name": "python3"
  },
  "language_info": {
   "codemirror_mode": {
    "name": "ipython",
    "version": 3
   },
   "file_extension": ".py",
   "mimetype": "text/x-python",
   "name": "python",
   "nbconvert_exporter": "python",
   "pygments_lexer": "ipython3",
   "version": "3.7.7"
  },
  "orig_nbformat": 4
 },
 "nbformat": 4,
 "nbformat_minor": 2
}
